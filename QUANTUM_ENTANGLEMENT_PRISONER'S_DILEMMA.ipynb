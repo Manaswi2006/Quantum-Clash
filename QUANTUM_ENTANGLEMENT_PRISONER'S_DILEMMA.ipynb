{
  "nbformat": 4,
  "nbformat_minor": 0,
  "metadata": {
    "colab": {
      "provenance": []
    },
    "kernelspec": {
      "name": "python3",
      "display_name": "Python 3"
    },
    "language_info": {
      "name": "python"
    }
  },
  "cells": [
    {
      "cell_type": "code",
      "execution_count": 7,
      "metadata": {
        "colab": {
          "base_uri": "https://localhost:8080/"
        },
        "id": "6vJWOe0XutIg",
        "outputId": "f2fb2edf-b45a-4184-f39d-b8768706e2aa"
      },
      "outputs": [
        {
          "output_type": "stream",
          "name": "stdout",
          "text": [
            "Requirement already satisfied: qiskit in /usr/local/lib/python3.10/dist-packages (1.2.4)\n",
            "Requirement already satisfied: rustworkx>=0.15.0 in /usr/local/lib/python3.10/dist-packages (from qiskit) (0.15.1)\n",
            "Requirement already satisfied: numpy<3,>=1.17 in /usr/local/lib/python3.10/dist-packages (from qiskit) (1.26.4)\n",
            "Requirement already satisfied: scipy>=1.5 in /usr/local/lib/python3.10/dist-packages (from qiskit) (1.13.1)\n",
            "Requirement already satisfied: sympy>=1.3 in /usr/local/lib/python3.10/dist-packages (from qiskit) (1.13.3)\n",
            "Requirement already satisfied: dill>=0.3 in /usr/local/lib/python3.10/dist-packages (from qiskit) (0.3.9)\n",
            "Requirement already satisfied: python-dateutil>=2.8.0 in /usr/local/lib/python3.10/dist-packages (from qiskit) (2.8.2)\n",
            "Requirement already satisfied: stevedore>=3.0.0 in /usr/local/lib/python3.10/dist-packages (from qiskit) (5.3.0)\n",
            "Requirement already satisfied: typing-extensions in /usr/local/lib/python3.10/dist-packages (from qiskit) (4.12.2)\n",
            "Requirement already satisfied: symengine<0.14,>=0.11 in /usr/local/lib/python3.10/dist-packages (from qiskit) (0.13.0)\n",
            "Requirement already satisfied: six>=1.5 in /usr/local/lib/python3.10/dist-packages (from python-dateutil>=2.8.0->qiskit) (1.16.0)\n",
            "Requirement already satisfied: pbr>=2.0.0 in /usr/local/lib/python3.10/dist-packages (from stevedore>=3.0.0->qiskit) (6.1.0)\n",
            "Requirement already satisfied: mpmath<1.4,>=1.1.0 in /usr/local/lib/python3.10/dist-packages (from sympy>=1.3->qiskit) (1.3.0)\n"
          ]
        }
      ],
      "source": [
        "pip install qiskit\n",
        "pip install qiskit-aer\n",
        "pip install matplotlib"
      ]
    },
    {
      "cell_type": "code",
      "source": [
        "import numpy as np\n",
        "from qiskit import QuantumCircuit, transpile\n",
        "from qiskit_aer import AerSimulator\n",
        "from qiskit.visualization import plot_histogram\n",
        "import matplotlib.pyplot as plt\n",
        "\n"
      ],
      "metadata": {
        "id": "re7T7G3cvBfE"
      },
      "execution_count": 8,
      "outputs": []
    },
    {
      "cell_type": "code",
      "source": [
        "\n",
        "# Create a quantum circuit for the Prisoner's Dilemma\n",
        "def create_quantum_circuit():\n",
        "    qc = QuantumCircuit(2, 2)  # 2 qubits, 2 classical bits\n",
        "\n",
        "    # Create entanglement between two players\n",
        "    qc.h(0)  # Apply Hadamard to the first qubit\n",
        "    qc.cx(0, 1)  # CNOT gate to entangle the qubits\n",
        "\n",
        "    # Measurement\n",
        "    qc.measure([0, 1], [0, 1])  # Measure both qubits\n",
        "\n",
        "    return qc\n"
      ],
      "metadata": {
        "id": "Y9CEzZFPvYpS"
      },
      "execution_count": 9,
      "outputs": []
    },
    {
      "cell_type": "code",
      "source": [
        "\n",
        "# Function to run the quantum circuit on a simulator\n",
        "def run_quantum_circuit(qc):\n",
        "    # Use the Aer simulator\n",
        "    simulator = AerSimulator()\n",
        "\n",
        "    # Transpile the circuit for the simulator\n",
        "    transpiled_circuit = transpile(qc, simulator)\n",
        "\n",
        "    # Execute the circuit\n",
        "    job = simulator.run(transpiled_circuit, shots=4096)\n",
        "\n",
        "    # Get the results\n",
        "    result = job.result()\n",
        "    return result\n",
        "\n"
      ],
      "metadata": {
        "id": "bY7WzH0XvDyZ"
      },
      "execution_count": 10,
      "outputs": []
    },
    {
      "cell_type": "code",
      "source": [
        "# Function to simulate the Prisoner's Dilemma game\n",
        "def prisoners_dilemma():\n",
        "    # Create the quantum circuit\n",
        "    qc = create_quantum_circuit()\n",
        "\n",
        "    # Run the quantum circuit\n",
        "    result = run_quantum_circuit(qc)\n",
        "\n",
        "    # Extract counts from the result\n",
        "    counts = result.get_counts(qc)\n",
        "\n",
        "    # Print the results\n",
        "    print(\"Results of the Quantum Prisoner's Dilemma:\")\n",
        "    print(counts)\n",
        "\n",
        "    # Plot the results\n",
        "    plt.bar(counts.keys(), counts.values())\n",
        "    plt.xlabel('Outcomes')\n",
        "    plt.ylabel('Counts')\n",
        "    plt.title(\"Prisoner's Dilemma Test\")\n",
        "    plt.show()  # This should display a simple histogram\n"
      ],
      "metadata": {
        "id": "iprEakr-vcep"
      },
      "execution_count": 11,
      "outputs": []
    },
    {
      "cell_type": "code",
      "source": [
        "# Execute the Prisoner's Dilemma simulation\n",
        "prisoners_dilemma()"
      ],
      "metadata": {
        "colab": {
          "base_uri": "https://localhost:8080/",
          "height": 507
        },
        "id": "mNX_iKlYvd4c",
        "outputId": "6bcce6d4-04b0-40ce-a9b3-bbc13591248c"
      },
      "execution_count": 12,
      "outputs": [
        {
          "output_type": "stream",
          "name": "stdout",
          "text": [
            "Results of the Quantum Prisoner's Dilemma:\n",
            "{'00': 2055, '11': 2041}\n"
          ]
        },
        {
          "output_type": "display_data",
          "data": {
            "text/plain": [
              "<Figure size 640x480 with 1 Axes>"
            ],
            "image/png": "[encoded data removed]"
          },
          "metadata": {}
        }
      ]
    }
  ]
}